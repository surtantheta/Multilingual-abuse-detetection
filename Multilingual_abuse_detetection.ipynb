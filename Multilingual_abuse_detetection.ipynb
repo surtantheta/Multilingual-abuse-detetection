{
 "cells": [
  {
   "cell_type": "code",
   "execution_count": null,
   "metadata": {
    "colab": {
     "base_uri": "https://localhost:8080/"
    },
    "id": "NkybF3FriqcO",
    "outputId": "3e8cd49f-6c95-478f-c191-6840fd13638a"
   },
   "outputs": [
    {
     "name": "stdout",
     "output_type": "stream",
     "text": [
      "Warning: Looks like you're using an outdated API Version, please consider updating (server 1.5.12 / client 1.5.4)\n",
      "Downloading ShareChat-IndoML-Datathon-NSFW-CommentChallenge_Train.csv.zip to /content\n",
      " 96% 48.0M/50.0M [00:00<00:00, 81.5MB/s]\n",
      "100% 50.0M/50.0M [00:00<00:00, 113MB/s] \n"
     ]
    }
   ],
   "source": [
    "! kaggle competitions download multilingualabusivecomment"
   ]
  },
  {
   "cell_type": "code",
   "execution_count": null,
   "metadata": {
    "colab": {
     "base_uri": "https://localhost:8080/"
    },
    "id": "CBswjhnfi-h2",
    "outputId": "abe90dfa-d38c-4bf5-c97b-568e62696b08"
   },
   "outputs": [
    {
     "name": "stdout",
     "output_type": "stream",
     "text": [
      "Archive:  /content/ShareChat-IndoML-Datathon-NSFW-CommentChallenge_Train.csv.zip\n",
      "  inflating: ShareChat-IndoML-Datathon-NSFW-CommentChallenge_Train.csv  \n"
     ]
    }
   ],
   "source": [
    "! unzip /content/ShareChat-IndoML-Datathon-NSFW-CommentChallenge_Train.csv.zip"
   ]
  },
  {
   "cell_type": "code",
   "execution_count": null,
   "metadata": {
    "id": "sY9Dxvj7jN7Q"
   },
   "outputs": [],
   "source": [
    "import pandas as pd"
   ]
  },
  {
   "cell_type": "code",
   "execution_count": null,
   "metadata": {
    "id": "7jbaM786jauK"
   },
   "outputs": [],
   "source": [
    "data = pd.read_csv('/content/ShareChat-IndoML-Datathon-NSFW-CommentChallenge_Train.csv',error_bad_lines=False)"
   ]
  },
  {
   "cell_type": "code",
   "execution_count": null,
   "metadata": {
    "colab": {
     "base_uri": "https://localhost:8080/",
     "height": 341
    },
    "id": "iXVKZ1tGjefC",
    "outputId": "75689cac-2c13-47cd-cd59-ee92c2a7fce1"
   },
   "outputs": [
    {
     "data": {
      "text/html": [
       "<div>\n",
       "<style scoped>\n",
       "    .dataframe tbody tr th:only-of-type {\n",
       "        vertical-align: middle;\n",
       "    }\n",
       "\n",
       "    .dataframe tbody tr th {\n",
       "        vertical-align: top;\n",
       "    }\n",
       "\n",
       "    .dataframe thead th {\n",
       "        text-align: right;\n",
       "    }\n",
       "</style>\n",
       "<table border=\"1\" class=\"dataframe\">\n",
       "  <thead>\n",
       "    <tr style=\"text-align: right;\">\n",
       "      <th></th>\n",
       "      <th>CommentId</th>\n",
       "      <th>commentText</th>\n",
       "      <th>language</th>\n",
       "      <th>user_index</th>\n",
       "      <th>post_index</th>\n",
       "      <th>report_count_comment</th>\n",
       "      <th>report_count_post</th>\n",
       "      <th>like_count_comment</th>\n",
       "      <th>like_count_post</th>\n",
       "      <th>label</th>\n",
       "    </tr>\n",
       "  </thead>\n",
       "  <tbody>\n",
       "    <tr>\n",
       "      <th>0</th>\n",
       "      <td>0</td>\n",
       "      <td>randi ka deewana</td>\n",
       "      <td>Assamese</td>\n",
       "      <td>2869</td>\n",
       "      <td>175913</td>\n",
       "      <td>0</td>\n",
       "      <td>1</td>\n",
       "      <td>0</td>\n",
       "      <td>65</td>\n",
       "      <td>1.0</td>\n",
       "    </tr>\n",
       "    <tr>\n",
       "      <th>1</th>\n",
       "      <td>1</td>\n",
       "      <td>👌👌🙏🥰🥰🥰☝️☝️</td>\n",
       "      <td>Rajasthani</td>\n",
       "      <td>601</td>\n",
       "      <td>960582</td>\n",
       "      <td>0</td>\n",
       "      <td>0</td>\n",
       "      <td>1</td>\n",
       "      <td>94</td>\n",
       "      <td>0.0</td>\n",
       "    </tr>\n",
       "    <tr>\n",
       "      <th>2</th>\n",
       "      <td>2</td>\n",
       "      <td>apni pant utar kar apni chut bhi to bata do ma...</td>\n",
       "      <td>Urdu</td>\n",
       "      <td>1205</td>\n",
       "      <td>17327</td>\n",
       "      <td>0</td>\n",
       "      <td>1</td>\n",
       "      <td>0</td>\n",
       "      <td>731</td>\n",
       "      <td>1.0</td>\n",
       "    </tr>\n",
       "    <tr>\n",
       "      <th>3</th>\n",
       "      <td>3</td>\n",
       "      <td>krishnatripathi4578 jesi ghar ki sabhyata vais...</td>\n",
       "      <td>Rajasthani</td>\n",
       "      <td>889</td>\n",
       "      <td>352919</td>\n",
       "      <td>0</td>\n",
       "      <td>1</td>\n",
       "      <td>1</td>\n",
       "      <td>285</td>\n",
       "      <td>0.0</td>\n",
       "    </tr>\n",
       "    <tr>\n",
       "      <th>4</th>\n",
       "      <td>4</td>\n",
       "      <td>is randi ko dusra kaam nahi hai kuttiya kahin ki</td>\n",
       "      <td>Urdu</td>\n",
       "      <td>372</td>\n",
       "      <td>261223</td>\n",
       "      <td>0</td>\n",
       "      <td>0</td>\n",
       "      <td>0</td>\n",
       "      <td>453</td>\n",
       "      <td>1.0</td>\n",
       "    </tr>\n",
       "  </tbody>\n",
       "</table>\n",
       "</div>"
      ],
      "text/plain": [
       "   CommentId  ... label\n",
       "0          0  ...   1.0\n",
       "1          1  ...   0.0\n",
       "2          2  ...   1.0\n",
       "3          3  ...   0.0\n",
       "4          4  ...   1.0\n",
       "\n",
       "[5 rows x 10 columns]"
      ]
     },
     "execution_count": 6,
     "metadata": {},
     "output_type": "execute_result"
    }
   ],
   "source": [
    "data.head()"
   ]
  },
  {
   "cell_type": "code",
   "execution_count": null,
   "metadata": {
    "colab": {
     "base_uri": "https://localhost:8080/"
    },
    "id": "JtTXDaxskzwt",
    "outputId": "6a55d5ce-84eb-45b3-aa66-efb29736b5ce"
   },
   "outputs": [
    {
     "data": {
      "text/plain": [
       "1483506"
      ]
     },
     "execution_count": 7,
     "metadata": {},
     "output_type": "execute_result"
    }
   ],
   "source": [
    "len(data)"
   ]
  },
  {
   "cell_type": "code",
   "execution_count": null,
   "metadata": {
    "colab": {
     "base_uri": "https://localhost:8080/"
    },
    "id": "nlJLE5FhlO-l",
    "outputId": "5ac8fe3e-f6d2-4cad-a848-0d1d78a7b90d"
   },
   "outputs": [
    {
     "data": {
      "text/plain": [
       "Index(['CommentId', 'commentText', 'language', 'user_index', 'post_index',\n",
       "       'report_count_comment', 'report_count_post', 'like_count_comment',\n",
       "       'like_count_post', 'label'],\n",
       "      dtype='object')"
      ]
     },
     "execution_count": 8,
     "metadata": {},
     "output_type": "execute_result"
    }
   ],
   "source": [
    "data.columns"
   ]
  },
  {
   "cell_type": "code",
   "execution_count": null,
   "metadata": {
    "id": "C8hrcp5MpjuJ"
   },
   "outputs": [],
   "source": [
    "docs = list(data['commentText'].values)\n",
    "target = list(data['label'])"
   ]
  },
  {
   "cell_type": "code",
   "execution_count": null,
   "metadata": {
    "colab": {
     "base_uri": "https://localhost:8080/"
    },
    "id": "o30vsRNPqJX3",
    "outputId": "16f1ba39-4029-442e-99d1-744c00b4c637"
   },
   "outputs": [
    {
     "name": "stdout",
     "output_type": "stream",
     "text": [
      "nan\n"
     ]
    }
   ],
   "source": [
    "from keras.preprocessing.text import one_hot\n",
    "vocab_size = 1183500\n",
    "encoded_docs = []\n",
    "target_cleaned = []\n",
    "for i in range(len(docs)):    \n",
    "  try:\n",
    "    encoded_docs.append(one_hot(docs[i], vocab_size))\n",
    "    target_cleaned.append(target[i])\n",
    "  except:\n",
    "    print(docs[i])"
   ]
  },
  {
   "cell_type": "code",
   "execution_count": null,
   "metadata": {
    "id": "mGQ9sVhK3T-J"
   },
   "outputs": [],
   "source": [
    "from sklearn.model_selection import train_test_split\n",
    "X_train, X_test, y_train, y_test = train_test_split(encoded_docs, target_cleaned, test_size=0.2)"
   ]
  },
  {
   "cell_type": "code",
   "execution_count": null,
   "metadata": {
    "colab": {
     "base_uri": "https://localhost:8080/"
    },
    "id": "3vMp8r-TrAfH",
    "outputId": "005cef1d-2859-4f58-8f22-a1552bfa3f19"
   },
   "outputs": [
    {
     "name": "stdout",
     "output_type": "stream",
     "text": [
      "nan\n"
     ]
    }
   ],
   "source": [
    "words = []\n",
    "for sentences in docs:\n",
    "  try:\n",
    "    words.extend(sentences.split(' '))\n",
    "  except:\n",
    "    print(sentences)"
   ]
  },
  {
   "cell_type": "code",
   "execution_count": null,
   "metadata": {
    "colab": {
     "base_uri": "https://localhost:8080/"
    },
    "id": "h9Bk9AsWzuCQ",
    "outputId": "50335664-374b-4130-9ca8-d8fda1ad584e"
   },
   "outputs": [
    {
     "data": {
      "text/plain": [
       "(1483505, 1483505)"
      ]
     },
     "execution_count": 16,
     "metadata": {},
     "output_type": "execute_result"
    }
   ],
   "source": [
    "len(encoded_docs), len(target_cleaned)"
   ]
  },
  {
   "cell_type": "code",
   "execution_count": null,
   "metadata": {
    "id": "UlZjulOa1G6k"
   },
   "outputs": [],
   "source": [
    "from keras.preprocessing import sequence \n",
    "max_review_length = 500\n",
    "X_train = sequence.pad_sequences(X_train, maxlen=max_review_length) \n",
    "X_test = sequence.pad_sequences(X_test, maxlen=max_review_length) \n"
   ]
  },
  {
   "cell_type": "code",
   "execution_count": null,
   "metadata": {
    "id": "1Jn6pXQsBYLM"
   },
   "outputs": [],
   "source": [
    "from keras.models import Sequential\n",
    "from keras.layers import Dense\n",
    "from keras.layers import LSTM, Convolution1D, MaxPooling1D\n",
    "from keras.layers import Dropout\n",
    "from keras.layers.convolutional import Conv1D\n",
    "from keras.layers.convolutional import MaxPooling1D\n",
    "from keras.layers.embeddings import Embedding\n",
    "from keras.preprocessing import sequence\n",
    "import numpy as np\n"
   ]
  },
  {
   "cell_type": "code",
   "execution_count": null,
   "metadata": {
    "colab": {
     "base_uri": "https://localhost:8080/"
    },
    "id": "J1_2eqNB1g08",
    "outputId": "12edc5bb-bf7a-43c0-f120-208d984dbe67"
   },
   "outputs": [
    {
     "name": "stdout",
     "output_type": "stream",
     "text": [
      "Model: \"sequential\"\n",
      "_________________________________________________________________\n",
      "Layer (type)                 Output Shape              Param #   \n",
      "=================================================================\n",
      "embedding (Embedding)        (None, 500, 32)           16000     \n",
      "_________________________________________________________________\n",
      "lstm (LSTM)                  (None, 100)               53200     \n",
      "_________________________________________________________________\n",
      "dense (Dense)                (None, 1)                 101       \n",
      "=================================================================\n",
      "Total params: 69,301\n",
      "Trainable params: 69,301\n",
      "Non-trainable params: 0\n",
      "_________________________________________________________________\n",
      "None\n"
     ]
    }
   ],
   "source": [
    "embedding_vector_length = 32 \n",
    "model = Sequential() \n",
    "model.add(Embedding(max_review_length, embedding_vector_length, input_length=max_review_length)) \n",
    "model.add(LSTM(100)) \n",
    "model.add(Dense(1, activation='sigmoid'))\n",
    "model.compile(loss='binary_crossentropy', optimizer='adam', metrics=['accuracy']) \n",
    "print(model.summary())"
   ]
  },
  {
   "cell_type": "code",
   "execution_count": null,
   "metadata": {
    "colab": {
     "base_uri": "https://localhost:8080/"
    },
    "id": "L0GtFSrABDgH",
    "outputId": "99b2a86d-37bd-4c00-b997-56483805dfb2"
   },
   "outputs": [
    {
     "name": "stdout",
     "output_type": "stream",
     "text": [
      "18544/18544 [==============================] - 1543s 83ms/step - loss: nan - accuracy: 0.7654 - val_loss: nan - val_accuracy: 0.7667\n"
     ]
    },
    {
     "data": {
      "text/plain": [
       "<keras.callbacks.History at 0x7f293e39f750>"
      ]
     },
     "execution_count": 20,
     "metadata": {},
     "output_type": "execute_result"
    }
   ],
   "source": [
    "model.fit(X_train, np.array(y_train), validation_data=(X_test, np.array(y_test)), epochs=1, batch_size=64) \n"
   ]
  },
  {
   "cell_type": "code",
   "execution_count": null,
   "metadata": {
    "colab": {
     "base_uri": "https://localhost:8080/"
    },
    "id": "1i-cIqQ-Sbkt",
    "outputId": "f598a4cf-8a3b-457a-8e03-10a0add17641"
   },
   "outputs": [
    {
     "name": "stdout",
     "output_type": "stream",
     "text": [
      "Accuracy: 76.67%\n"
     ]
    }
   ],
   "source": [
    "scores = model.evaluate(X_test, np.array(y_test), verbose=0) \n",
    "print(\"Accuracy: %.2f%%\" % (scores[1]*100))"
   ]
  }
 ],
 "metadata": {
  "accelerator": "GPU",
  "colab": {
   "name": "Multilingual abuse detetection.ipynb",
   "provenance": []
  },
  "kernelspec": {
   "display_name": "Python 3",
   "language": "python",
   "name": "python3"
  },
  "language_info": {
   "codemirror_mode": {
    "name": "ipython",
    "version": 3
   },
   "file_extension": ".py",
   "mimetype": "text/x-python",
   "name": "python",
   "nbconvert_exporter": "python",
   "pygments_lexer": "ipython3",
   "version": "3.8.3"
  }
 },
 "nbformat": 4,
 "nbformat_minor": 1
}
